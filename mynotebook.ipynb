{
 "cells": [
  {
   "cell_type": "markdown",
   "metadata": {},
   "source": [
    "## DATA LOADING"
   ]
  },
  {
   "cell_type": "code",
   "execution_count": 1,
   "metadata": {},
   "outputs": [],
   "source": [
    "import pandas as pd\n",
    "import numpy as np"
   ]
  },
  {
   "cell_type": "code",
   "execution_count": 2,
   "metadata": {},
   "outputs": [
    {
     "name": "stdout",
     "output_type": "stream",
     "text": [
      "1.18.1\n",
      "1.0.1\n"
     ]
    }
   ],
   "source": [
    "print(np.__version__)\n",
    "print(pd.__version__)"
   ]
  },
  {
   "cell_type": "code",
   "execution_count": 3,
   "metadata": {},
   "outputs": [],
   "source": [
    "score=pd.read_csv(\"upsdata.csv\")"
   ]
  },
  {
   "cell_type": "code",
   "execution_count": 4,
   "metadata": {
    "scrolled": true
   },
   "outputs": [
    {
     "data": {
      "text/html": [
       "<div>\n",
       "<style scoped>\n",
       "    .dataframe tbody tr th:only-of-type {\n",
       "        vertical-align: middle;\n",
       "    }\n",
       "\n",
       "    .dataframe tbody tr th {\n",
       "        vertical-align: top;\n",
       "    }\n",
       "\n",
       "    .dataframe thead th {\n",
       "        text-align: right;\n",
       "    }\n",
       "</style>\n",
       "<table border=\"1\" class=\"dataframe\">\n",
       "  <thead>\n",
       "    <tr style=\"text-align: right;\">\n",
       "      <th></th>\n",
       "      <th>Rank_Char</th>\n",
       "      <th>Score_Rank</th>\n",
       "      <th>University</th>\n",
       "      <th>Country</th>\n",
       "      <th>Number_students</th>\n",
       "      <th>Numb_students_per_Staff</th>\n",
       "      <th>International_Students</th>\n",
       "      <th>Percentage_Female</th>\n",
       "      <th>Percentage_Male</th>\n",
       "      <th>Teaching</th>\n",
       "      <th>Research</th>\n",
       "      <th>Citations</th>\n",
       "      <th>Industry_Income</th>\n",
       "      <th>International_Outlook</th>\n",
       "      <th>Score_Result</th>\n",
       "      <th>Overall_Ranking</th>\n",
       "    </tr>\n",
       "  </thead>\n",
       "  <tbody>\n",
       "    <tr>\n",
       "      <th>0</th>\n",
       "      <td>1</td>\n",
       "      <td>1</td>\n",
       "      <td>University of Oxford</td>\n",
       "      <td>United Kingdom</td>\n",
       "      <td>20,664</td>\n",
       "      <td>11.2</td>\n",
       "      <td>41%</td>\n",
       "      <td>46%</td>\n",
       "      <td>54%</td>\n",
       "      <td>90.5</td>\n",
       "      <td>99.6</td>\n",
       "      <td>98.4</td>\n",
       "      <td>65.5</td>\n",
       "      <td>96.4</td>\n",
       "      <td>95.4</td>\n",
       "      <td>95.4</td>\n",
       "    </tr>\n",
       "    <tr>\n",
       "      <th>1</th>\n",
       "      <td>2</td>\n",
       "      <td>2</td>\n",
       "      <td>California Institute of Technology</td>\n",
       "      <td>United States</td>\n",
       "      <td>2,240</td>\n",
       "      <td>6.4</td>\n",
       "      <td>30%</td>\n",
       "      <td>34%</td>\n",
       "      <td>66%</td>\n",
       "      <td>92.1</td>\n",
       "      <td>97.2</td>\n",
       "      <td>97.9</td>\n",
       "      <td>88.0</td>\n",
       "      <td>82.5</td>\n",
       "      <td>94.5</td>\n",
       "      <td>94.5</td>\n",
       "    </tr>\n",
       "    <tr>\n",
       "      <th>2</th>\n",
       "      <td>3</td>\n",
       "      <td>3</td>\n",
       "      <td>University of Cambridge</td>\n",
       "      <td>United Kingdom</td>\n",
       "      <td>18,978</td>\n",
       "      <td>10.9</td>\n",
       "      <td>37%</td>\n",
       "      <td>47%</td>\n",
       "      <td>53%</td>\n",
       "      <td>91.4</td>\n",
       "      <td>98.7</td>\n",
       "      <td>95.8</td>\n",
       "      <td>59.3</td>\n",
       "      <td>95.0</td>\n",
       "      <td>94.4</td>\n",
       "      <td>94.4</td>\n",
       "    </tr>\n",
       "    <tr>\n",
       "      <th>3</th>\n",
       "      <td>4</td>\n",
       "      <td>4</td>\n",
       "      <td>Stanford University</td>\n",
       "      <td>United States</td>\n",
       "      <td>16,135</td>\n",
       "      <td>7.3</td>\n",
       "      <td>23%</td>\n",
       "      <td>43%</td>\n",
       "      <td>57%</td>\n",
       "      <td>92.8</td>\n",
       "      <td>96.4</td>\n",
       "      <td>99.9</td>\n",
       "      <td>66.2</td>\n",
       "      <td>79.5</td>\n",
       "      <td>94.3</td>\n",
       "      <td>94.3</td>\n",
       "    </tr>\n",
       "    <tr>\n",
       "      <th>4</th>\n",
       "      <td>5</td>\n",
       "      <td>5</td>\n",
       "      <td>Massachusetts Institute of Technology</td>\n",
       "      <td>United States</td>\n",
       "      <td>11,247</td>\n",
       "      <td>8.6</td>\n",
       "      <td>34%</td>\n",
       "      <td>39%</td>\n",
       "      <td>61%</td>\n",
       "      <td>90.5</td>\n",
       "      <td>92.4</td>\n",
       "      <td>99.5</td>\n",
       "      <td>86.9</td>\n",
       "      <td>89.0</td>\n",
       "      <td>93.6</td>\n",
       "      <td>93.6</td>\n",
       "    </tr>\n",
       "  </tbody>\n",
       "</table>\n",
       "</div>"
      ],
      "text/plain": [
       "  Rank_Char  Score_Rank                             University  \\\n",
       "0         1           1                   University of Oxford   \n",
       "1         2           2     California Institute of Technology   \n",
       "2         3           3                University of Cambridge   \n",
       "3         4           4                    Stanford University   \n",
       "4         5           5  Massachusetts Institute of Technology   \n",
       "\n",
       "          Country Number_students  Numb_students_per_Staff  \\\n",
       "0  United Kingdom          20,664                     11.2   \n",
       "1   United States           2,240                      6.4   \n",
       "2  United Kingdom          18,978                     10.9   \n",
       "3   United States          16,135                      7.3   \n",
       "4   United States          11,247                      8.6   \n",
       "\n",
       "  International_Students Percentage_Female Percentage_Male  Teaching  \\\n",
       "0                    41%               46%             54%      90.5   \n",
       "1                    30%               34%             66%      92.1   \n",
       "2                    37%               47%             53%      91.4   \n",
       "3                    23%               43%             57%      92.8   \n",
       "4                    34%               39%             61%      90.5   \n",
       "\n",
       "   Research  Citations  Industry_Income  International_Outlook  Score_Result  \\\n",
       "0      99.6       98.4             65.5                   96.4          95.4   \n",
       "1      97.2       97.9             88.0                   82.5          94.5   \n",
       "2      98.7       95.8             59.3                   95.0          94.4   \n",
       "3      96.4       99.9             66.2                   79.5          94.3   \n",
       "4      92.4       99.5             86.9                   89.0          93.6   \n",
       "\n",
       "  Overall_Ranking  \n",
       "0            95.4  \n",
       "1            94.5  \n",
       "2            94.4  \n",
       "3            94.3  \n",
       "4            93.6  "
      ]
     },
     "execution_count": 4,
     "metadata": {},
     "output_type": "execute_result"
    }
   ],
   "source": [
    "score.head()"
   ]
  },
  {
   "cell_type": "markdown",
   "metadata": {},
   "source": [
    "# DATA CLEANING"
   ]
  },
  {
   "cell_type": "code",
   "execution_count": 5,
   "metadata": {},
   "outputs": [
    {
     "name": "stdout",
     "output_type": "stream",
     "text": [
      "<class 'pandas.core.frame.DataFrame'>\n",
      "RangeIndex: 1396 entries, 0 to 1395\n",
      "Data columns (total 16 columns):\n",
      " #   Column                   Non-Null Count  Dtype  \n",
      "---  ------                   --------------  -----  \n",
      " 0   Rank_Char                1396 non-null   object \n",
      " 1   Score_Rank               1396 non-null   int64  \n",
      " 2   University               1396 non-null   object \n",
      " 3   Country                  1396 non-null   object \n",
      " 4   Number_students          1396 non-null   object \n",
      " 5   Numb_students_per_Staff  1396 non-null   float64\n",
      " 6   International_Students   1396 non-null   object \n",
      " 7   Percentage_Female        1396 non-null   object \n",
      " 8   Percentage_Male          1396 non-null   object \n",
      " 9   Teaching                 1396 non-null   float64\n",
      " 10  Research                 1396 non-null   float64\n",
      " 11  Citations                1396 non-null   float64\n",
      " 12  Industry_Income          1396 non-null   float64\n",
      " 13  International_Outlook    1396 non-null   float64\n",
      " 14  Score_Result             1396 non-null   float64\n",
      " 15  Overall_Ranking          1396 non-null   object \n",
      "dtypes: float64(7), int64(1), object(8)\n",
      "memory usage: 174.6+ KB\n"
     ]
    }
   ],
   "source": [
    "score.info()"
   ]
  },
  {
   "cell_type": "code",
   "execution_count": 6,
   "metadata": {
    "scrolled": true
   },
   "outputs": [
    {
     "data": {
      "text/html": [
       "<div>\n",
       "<style scoped>\n",
       "    .dataframe tbody tr th:only-of-type {\n",
       "        vertical-align: middle;\n",
       "    }\n",
       "\n",
       "    .dataframe tbody tr th {\n",
       "        vertical-align: top;\n",
       "    }\n",
       "\n",
       "    .dataframe thead th {\n",
       "        text-align: right;\n",
       "    }\n",
       "</style>\n",
       "<table border=\"1\" class=\"dataframe\">\n",
       "  <thead>\n",
       "    <tr style=\"text-align: right;\">\n",
       "      <th></th>\n",
       "      <th>Score_Rank</th>\n",
       "      <th>Numb_students_per_Staff</th>\n",
       "      <th>Teaching</th>\n",
       "      <th>Research</th>\n",
       "      <th>Citations</th>\n",
       "      <th>Industry_Income</th>\n",
       "      <th>International_Outlook</th>\n",
       "      <th>Score_Result</th>\n",
       "    </tr>\n",
       "  </thead>\n",
       "  <tbody>\n",
       "    <tr>\n",
       "      <th>count</th>\n",
       "      <td>1396.000000</td>\n",
       "      <td>1396.000000</td>\n",
       "      <td>1396.000000</td>\n",
       "      <td>1396.000000</td>\n",
       "      <td>1396.000000</td>\n",
       "      <td>1396.000000</td>\n",
       "      <td>1396.000000</td>\n",
       "      <td>1396.000000</td>\n",
       "    </tr>\n",
       "    <tr>\n",
       "      <th>mean</th>\n",
       "      <td>315.304441</td>\n",
       "      <td>18.966905</td>\n",
       "      <td>28.229083</td>\n",
       "      <td>23.981160</td>\n",
       "      <td>48.113109</td>\n",
       "      <td>46.477292</td>\n",
       "      <td>47.114542</td>\n",
       "      <td>34.794054</td>\n",
       "    </tr>\n",
       "    <tr>\n",
       "      <th>std</th>\n",
       "      <td>140.946223</td>\n",
       "      <td>16.835492</td>\n",
       "      <td>14.149550</td>\n",
       "      <td>17.537044</td>\n",
       "      <td>27.735626</td>\n",
       "      <td>16.273498</td>\n",
       "      <td>23.288723</td>\n",
       "      <td>16.946075</td>\n",
       "    </tr>\n",
       "    <tr>\n",
       "      <th>min</th>\n",
       "      <td>1.000000</td>\n",
       "      <td>0.900000</td>\n",
       "      <td>11.200000</td>\n",
       "      <td>6.800000</td>\n",
       "      <td>1.700000</td>\n",
       "      <td>34.400000</td>\n",
       "      <td>13.100000</td>\n",
       "      <td>10.700000</td>\n",
       "    </tr>\n",
       "    <tr>\n",
       "      <th>25%</th>\n",
       "      <td>212.000000</td>\n",
       "      <td>12.375000</td>\n",
       "      <td>18.300000</td>\n",
       "      <td>11.600000</td>\n",
       "      <td>23.375000</td>\n",
       "      <td>35.775000</td>\n",
       "      <td>27.475000</td>\n",
       "      <td>21.000000</td>\n",
       "    </tr>\n",
       "    <tr>\n",
       "      <th>50%</th>\n",
       "      <td>336.000000</td>\n",
       "      <td>16.350000</td>\n",
       "      <td>23.800000</td>\n",
       "      <td>18.000000</td>\n",
       "      <td>45.650000</td>\n",
       "      <td>39.400000</td>\n",
       "      <td>43.100000</td>\n",
       "      <td>31.600000</td>\n",
       "    </tr>\n",
       "    <tr>\n",
       "      <th>75%</th>\n",
       "      <td>437.000000</td>\n",
       "      <td>21.900000</td>\n",
       "      <td>33.600000</td>\n",
       "      <td>30.100000</td>\n",
       "      <td>71.950000</td>\n",
       "      <td>49.825000</td>\n",
       "      <td>62.800000</td>\n",
       "      <td>44.500000</td>\n",
       "    </tr>\n",
       "    <tr>\n",
       "      <th>max</th>\n",
       "      <td>535.000000</td>\n",
       "      <td>493.500000</td>\n",
       "      <td>92.800000</td>\n",
       "      <td>99.600000</td>\n",
       "      <td>100.000000</td>\n",
       "      <td>100.000000</td>\n",
       "      <td>99.700000</td>\n",
       "      <td>95.400000</td>\n",
       "    </tr>\n",
       "  </tbody>\n",
       "</table>\n",
       "</div>"
      ],
      "text/plain": [
       "        Score_Rank  Numb_students_per_Staff     Teaching     Research  \\\n",
       "count  1396.000000              1396.000000  1396.000000  1396.000000   \n",
       "mean    315.304441                18.966905    28.229083    23.981160   \n",
       "std     140.946223                16.835492    14.149550    17.537044   \n",
       "min       1.000000                 0.900000    11.200000     6.800000   \n",
       "25%     212.000000                12.375000    18.300000    11.600000   \n",
       "50%     336.000000                16.350000    23.800000    18.000000   \n",
       "75%     437.000000                21.900000    33.600000    30.100000   \n",
       "max     535.000000               493.500000    92.800000    99.600000   \n",
       "\n",
       "         Citations  Industry_Income  International_Outlook  Score_Result  \n",
       "count  1396.000000      1396.000000            1396.000000   1396.000000  \n",
       "mean     48.113109        46.477292              47.114542     34.794054  \n",
       "std      27.735626        16.273498              23.288723     16.946075  \n",
       "min       1.700000        34.400000              13.100000     10.700000  \n",
       "25%      23.375000        35.775000              27.475000     21.000000  \n",
       "50%      45.650000        39.400000              43.100000     31.600000  \n",
       "75%      71.950000        49.825000              62.800000     44.500000  \n",
       "max     100.000000       100.000000              99.700000     95.400000  "
      ]
     },
     "execution_count": 6,
     "metadata": {},
     "output_type": "execute_result"
    }
   ],
   "source": [
    "score.describe()"
   ]
  },
  {
   "cell_type": "code",
   "execution_count": 7,
   "metadata": {
    "scrolled": true
   },
   "outputs": [
    {
     "data": {
      "text/plain": [
       "((1396, 16), 22336)"
      ]
     },
     "execution_count": 7,
     "metadata": {},
     "output_type": "execute_result"
    }
   ],
   "source": [
    "score.shape,score.size"
   ]
  },
  {
   "cell_type": "code",
   "execution_count": 8,
   "metadata": {},
   "outputs": [],
   "source": [
    "\n",
    "Score=score.drop([\"Rank_Char\",\"Score_Rank\",\"University\",\"Country\",\"Number_students\",\"Numb_students_per_Staff\",\"International_Students\",\"Percentage_Female\",\"Percentage_Male\",\"Overall_Ranking\"],axis=1)"
   ]
  },
  {
   "cell_type": "code",
   "execution_count": 9,
   "metadata": {
    "scrolled": false
   },
   "outputs": [
    {
     "data": {
      "text/html": [
       "<div>\n",
       "<style scoped>\n",
       "    .dataframe tbody tr th:only-of-type {\n",
       "        vertical-align: middle;\n",
       "    }\n",
       "\n",
       "    .dataframe tbody tr th {\n",
       "        vertical-align: top;\n",
       "    }\n",
       "\n",
       "    .dataframe thead th {\n",
       "        text-align: right;\n",
       "    }\n",
       "</style>\n",
       "<table border=\"1\" class=\"dataframe\">\n",
       "  <thead>\n",
       "    <tr style=\"text-align: right;\">\n",
       "      <th></th>\n",
       "      <th>Teaching</th>\n",
       "      <th>Research</th>\n",
       "      <th>Citations</th>\n",
       "      <th>Industry_Income</th>\n",
       "      <th>International_Outlook</th>\n",
       "      <th>Score_Result</th>\n",
       "    </tr>\n",
       "  </thead>\n",
       "  <tbody>\n",
       "    <tr>\n",
       "      <th>0</th>\n",
       "      <td>90.5</td>\n",
       "      <td>99.6</td>\n",
       "      <td>98.4</td>\n",
       "      <td>65.5</td>\n",
       "      <td>96.4</td>\n",
       "      <td>95.4</td>\n",
       "    </tr>\n",
       "    <tr>\n",
       "      <th>1</th>\n",
       "      <td>92.1</td>\n",
       "      <td>97.2</td>\n",
       "      <td>97.9</td>\n",
       "      <td>88.0</td>\n",
       "      <td>82.5</td>\n",
       "      <td>94.5</td>\n",
       "    </tr>\n",
       "    <tr>\n",
       "      <th>2</th>\n",
       "      <td>91.4</td>\n",
       "      <td>98.7</td>\n",
       "      <td>95.8</td>\n",
       "      <td>59.3</td>\n",
       "      <td>95.0</td>\n",
       "      <td>94.4</td>\n",
       "    </tr>\n",
       "    <tr>\n",
       "      <th>3</th>\n",
       "      <td>92.8</td>\n",
       "      <td>96.4</td>\n",
       "      <td>99.9</td>\n",
       "      <td>66.2</td>\n",
       "      <td>79.5</td>\n",
       "      <td>94.3</td>\n",
       "    </tr>\n",
       "    <tr>\n",
       "      <th>4</th>\n",
       "      <td>90.5</td>\n",
       "      <td>92.4</td>\n",
       "      <td>99.5</td>\n",
       "      <td>86.9</td>\n",
       "      <td>89.0</td>\n",
       "      <td>93.6</td>\n",
       "    </tr>\n",
       "  </tbody>\n",
       "</table>\n",
       "</div>"
      ],
      "text/plain": [
       "   Teaching  Research  Citations  Industry_Income  International_Outlook  \\\n",
       "0      90.5      99.6       98.4             65.5                   96.4   \n",
       "1      92.1      97.2       97.9             88.0                   82.5   \n",
       "2      91.4      98.7       95.8             59.3                   95.0   \n",
       "3      92.8      96.4       99.9             66.2                   79.5   \n",
       "4      90.5      92.4       99.5             86.9                   89.0   \n",
       "\n",
       "   Score_Result  \n",
       "0          95.4  \n",
       "1          94.5  \n",
       "2          94.4  \n",
       "3          94.3  \n",
       "4          93.6  "
      ]
     },
     "execution_count": 9,
     "metadata": {},
     "output_type": "execute_result"
    }
   ],
   "source": [
    "\n",
    "Score.head()"
   ]
  },
  {
   "cell_type": "code",
   "execution_count": 10,
   "metadata": {},
   "outputs": [],
   "source": [
    "Score['Teaching'] = Score.Teaching.astype(int)"
   ]
  },
  {
   "cell_type": "code",
   "execution_count": 11,
   "metadata": {},
   "outputs": [],
   "source": [
    "Score['Research'] = Score.Research.astype(int)"
   ]
  },
  {
   "cell_type": "code",
   "execution_count": 12,
   "metadata": {},
   "outputs": [],
   "source": [
    "Score['Citations'] = Score.Citations.astype(int)"
   ]
  },
  {
   "cell_type": "code",
   "execution_count": 13,
   "metadata": {},
   "outputs": [],
   "source": [
    "Score['International_Outlook'] = Score.International_Outlook.astype(int)"
   ]
  },
  {
   "cell_type": "code",
   "execution_count": 14,
   "metadata": {},
   "outputs": [],
   "source": [
    "Score['Score_Result'] = Score.Score_Result.astype(int)"
   ]
  },
  {
   "cell_type": "code",
   "execution_count": 15,
   "metadata": {},
   "outputs": [],
   "source": [
    "Score['Industry_Income'] = Score.Industry_Income.astype(int)"
   ]
  },
  {
   "cell_type": "code",
   "execution_count": 16,
   "metadata": {},
   "outputs": [
    {
     "name": "stdout",
     "output_type": "stream",
     "text": [
      "<class 'pandas.core.frame.DataFrame'>\n",
      "RangeIndex: 1396 entries, 0 to 1395\n",
      "Data columns (total 6 columns):\n",
      " #   Column                 Non-Null Count  Dtype\n",
      "---  ------                 --------------  -----\n",
      " 0   Teaching               1396 non-null   int32\n",
      " 1   Research               1396 non-null   int32\n",
      " 2   Citations              1396 non-null   int32\n",
      " 3   Industry_Income        1396 non-null   int32\n",
      " 4   International_Outlook  1396 non-null   int32\n",
      " 5   Score_Result           1396 non-null   int32\n",
      "dtypes: int32(6)\n",
      "memory usage: 32.8 KB\n"
     ]
    }
   ],
   "source": [
    "Score.info()"
   ]
  },
  {
   "cell_type": "code",
   "execution_count": 17,
   "metadata": {},
   "outputs": [
    {
     "data": {
      "text/html": [
       "<div>\n",
       "<style scoped>\n",
       "    .dataframe tbody tr th:only-of-type {\n",
       "        vertical-align: middle;\n",
       "    }\n",
       "\n",
       "    .dataframe tbody tr th {\n",
       "        vertical-align: top;\n",
       "    }\n",
       "\n",
       "    .dataframe thead th {\n",
       "        text-align: right;\n",
       "    }\n",
       "</style>\n",
       "<table border=\"1\" class=\"dataframe\">\n",
       "  <thead>\n",
       "    <tr style=\"text-align: right;\">\n",
       "      <th></th>\n",
       "      <th>Teaching</th>\n",
       "      <th>Research</th>\n",
       "      <th>Citations</th>\n",
       "      <th>Industry_Income</th>\n",
       "      <th>International_Outlook</th>\n",
       "      <th>Score_Result</th>\n",
       "    </tr>\n",
       "  </thead>\n",
       "  <tbody>\n",
       "    <tr>\n",
       "      <th>count</th>\n",
       "      <td>1396.000000</td>\n",
       "      <td>1396.000000</td>\n",
       "      <td>1396.000000</td>\n",
       "      <td>1396.000000</td>\n",
       "      <td>1396.000000</td>\n",
       "      <td>1396.000000</td>\n",
       "    </tr>\n",
       "    <tr>\n",
       "      <th>mean</th>\n",
       "      <td>27.775788</td>\n",
       "      <td>23.525788</td>\n",
       "      <td>47.666905</td>\n",
       "      <td>46.012894</td>\n",
       "      <td>46.669771</td>\n",
       "      <td>34.350287</td>\n",
       "    </tr>\n",
       "    <tr>\n",
       "      <th>std</th>\n",
       "      <td>14.161456</td>\n",
       "      <td>17.548950</td>\n",
       "      <td>27.752647</td>\n",
       "      <td>16.287114</td>\n",
       "      <td>23.294234</td>\n",
       "      <td>16.947689</td>\n",
       "    </tr>\n",
       "    <tr>\n",
       "      <th>min</th>\n",
       "      <td>11.000000</td>\n",
       "      <td>6.000000</td>\n",
       "      <td>1.000000</td>\n",
       "      <td>34.000000</td>\n",
       "      <td>13.000000</td>\n",
       "      <td>10.000000</td>\n",
       "    </tr>\n",
       "    <tr>\n",
       "      <th>25%</th>\n",
       "      <td>18.000000</td>\n",
       "      <td>11.000000</td>\n",
       "      <td>23.000000</td>\n",
       "      <td>35.000000</td>\n",
       "      <td>27.000000</td>\n",
       "      <td>21.000000</td>\n",
       "    </tr>\n",
       "    <tr>\n",
       "      <th>50%</th>\n",
       "      <td>23.000000</td>\n",
       "      <td>18.000000</td>\n",
       "      <td>45.000000</td>\n",
       "      <td>39.000000</td>\n",
       "      <td>43.000000</td>\n",
       "      <td>31.000000</td>\n",
       "    </tr>\n",
       "    <tr>\n",
       "      <th>75%</th>\n",
       "      <td>33.000000</td>\n",
       "      <td>30.000000</td>\n",
       "      <td>71.250000</td>\n",
       "      <td>49.000000</td>\n",
       "      <td>62.000000</td>\n",
       "      <td>44.000000</td>\n",
       "    </tr>\n",
       "    <tr>\n",
       "      <th>max</th>\n",
       "      <td>92.000000</td>\n",
       "      <td>99.000000</td>\n",
       "      <td>100.000000</td>\n",
       "      <td>100.000000</td>\n",
       "      <td>99.000000</td>\n",
       "      <td>95.000000</td>\n",
       "    </tr>\n",
       "  </tbody>\n",
       "</table>\n",
       "</div>"
      ],
      "text/plain": [
       "          Teaching     Research    Citations  Industry_Income  \\\n",
       "count  1396.000000  1396.000000  1396.000000      1396.000000   \n",
       "mean     27.775788    23.525788    47.666905        46.012894   \n",
       "std      14.161456    17.548950    27.752647        16.287114   \n",
       "min      11.000000     6.000000     1.000000        34.000000   \n",
       "25%      18.000000    11.000000    23.000000        35.000000   \n",
       "50%      23.000000    18.000000    45.000000        39.000000   \n",
       "75%      33.000000    30.000000    71.250000        49.000000   \n",
       "max      92.000000    99.000000   100.000000       100.000000   \n",
       "\n",
       "       International_Outlook  Score_Result  \n",
       "count            1396.000000   1396.000000  \n",
       "mean               46.669771     34.350287  \n",
       "std                23.294234     16.947689  \n",
       "min                13.000000     10.000000  \n",
       "25%                27.000000     21.000000  \n",
       "50%                43.000000     31.000000  \n",
       "75%                62.000000     44.000000  \n",
       "max                99.000000     95.000000  "
      ]
     },
     "execution_count": 17,
     "metadata": {},
     "output_type": "execute_result"
    }
   ],
   "source": [
    "Score.describe()"
   ]
  },
  {
   "cell_type": "code",
   "execution_count": 18,
   "metadata": {},
   "outputs": [
    {
     "data": {
      "text/plain": [
       "((1396, 6), 8376)"
      ]
     },
     "execution_count": 18,
     "metadata": {},
     "output_type": "execute_result"
    }
   ],
   "source": [
    "Score.shape,Score.size"
   ]
  },
  {
   "cell_type": "code",
   "execution_count": 19,
   "metadata": {},
   "outputs": [],
   "source": [
    "import matplotlib\n"
   ]
  },
  {
   "cell_type": "code",
   "execution_count": 20,
   "metadata": {},
   "outputs": [
    {
     "name": "stdout",
     "output_type": "stream",
     "text": [
      "3.1.3\n"
     ]
    }
   ],
   "source": [
    "print(matplotlib.__version__)"
   ]
  },
  {
   "cell_type": "code",
   "execution_count": 21,
   "metadata": {},
   "outputs": [],
   "source": [
    "%matplotlib inline"
   ]
  },
  {
   "cell_type": "code",
   "execution_count": 22,
   "metadata": {},
   "outputs": [],
   "source": [
    "import matplotlib.pyplot as plt\n"
   ]
  },
  {
   "cell_type": "code",
   "execution_count": 23,
   "metadata": {
    "scrolled": false
   },
   "outputs": [
    {
     "data": {
      "text/plain": [
       "array([[<matplotlib.axes._subplots.AxesSubplot object at 0x00000196A165D108>,\n",
       "        <matplotlib.axes._subplots.AxesSubplot object at 0x000001969D816F08>],\n",
       "       [<matplotlib.axes._subplots.AxesSubplot object at 0x00000196A16E3348>,\n",
       "        <matplotlib.axes._subplots.AxesSubplot object at 0x00000196A171B488>],\n",
       "       [<matplotlib.axes._subplots.AxesSubplot object at 0x00000196A1754588>,\n",
       "        <matplotlib.axes._subplots.AxesSubplot object at 0x00000196A178A608>]],\n",
       "      dtype=object)"
      ]
     },
     "execution_count": 23,
     "metadata": {},
     "output_type": "execute_result"
    },
    {
     "data": {
      "image/png": "[encoded data removed]",
      "text/plain": [
       "<Figure size 720x432 with 6 Axes>"
      ]
     },
     "metadata": {
      "needs_background": "light"
     },
     "output_type": "display_data"
    }
   ],
   "source": [
    "Score.hist(bins=50,figsize=(10,6))"
   ]
  },
  {
   "cell_type": "code",
   "execution_count": 24,
   "metadata": {},
   "outputs": [],
   "source": [
    "corr_matrix =Score.corr()"
   ]
  },
  {
   "cell_type": "code",
   "execution_count": 25,
   "metadata": {},
   "outputs": [
    {
     "data": {
      "text/plain": [
       "Score_Result             1.000000\n",
       "Research                 0.900686\n",
       "Citations                0.879495\n",
       "Teaching                 0.843722\n",
       "International_Outlook    0.652193\n",
       "Industry_Income          0.398425\n",
       "Name: Score_Result, dtype: float64"
      ]
     },
     "execution_count": 25,
     "metadata": {},
     "output_type": "execute_result"
    }
   ],
   "source": [
    "corr_matrix['Score_Result'].sort_values(ascending=False)"
   ]
  },
  {
   "cell_type": "code",
   "execution_count": 26,
   "metadata": {},
   "outputs": [
    {
     "data": {
      "text/plain": [
       "<matplotlib.axes._subplots.AxesSubplot at 0x196a23da6c8>"
      ]
     },
     "execution_count": 26,
     "metadata": {},
     "output_type": "execute_result"
    },
    {
     "data": {
      "image/png": "[encoded data removed]",
      "text/plain": [
       "<Figure size 432x288 with 1 Axes>"
      ]
     },
     "metadata": {
      "needs_background": "light"
     },
     "output_type": "display_data"
    }
   ],
   "source": [
    "Score.plot(kind=\"scatter\",x=\"International_Outlook\",y=\"Score_Result\",alpha=0.8)"
   ]
  },
  {
   "cell_type": "code",
   "execution_count": 27,
   "metadata": {},
   "outputs": [
    {
     "data": {
      "text/plain": [
       "<matplotlib.axes._subplots.AxesSubplot at 0x196a2279988>"
      ]
     },
     "execution_count": 27,
     "metadata": {},
     "output_type": "execute_result"
    },
    {
     "data": {
      "image/png": "[encoded data removed]",
      "text/plain": [
       "<Figure size 432x288 with 1 Axes>"
      ]
     },
     "metadata": {
      "needs_background": "light"
     },
     "output_type": "display_data"
    }
   ],
   "source": [
    "Score.plot(kind=\"scatter\",x=\"Teaching\",y=\"Score_Result\",alpha=0.8)"
   ]
  },
  {
   "cell_type": "code",
   "execution_count": 28,
   "metadata": {},
   "outputs": [
    {
     "data": {
      "text/plain": [
       "<matplotlib.axes._subplots.AxesSubplot at 0x196a22d1e08>"
      ]
     },
     "execution_count": 28,
     "metadata": {},
     "output_type": "execute_result"
    },
    {
     "data": {
      "image/png": "[encoded data removed]",
      "text/plain": [
       "<Figure size 432x288 with 1 Axes>"
      ]
     },
     "metadata": {
      "needs_background": "light"
     },
     "output_type": "display_data"
    }
   ],
   "source": [
    "Score.plot(kind=\"scatter\",x=\"Research\",y=\"Score_Result\",alpha=0.8)"
   ]
  },
  {
   "cell_type": "code",
   "execution_count": 29,
   "metadata": {},
   "outputs": [
    {
     "data": {
      "text/plain": [
       "<matplotlib.axes._subplots.AxesSubplot at 0x196a2331548>"
      ]
     },
     "execution_count": 29,
     "metadata": {},
     "output_type": "execute_result"
    },
    {
     "data": {
      "image/png": "[encoded data removed]",
      "text/plain": [
       "<Figure size 432x288 with 1 Axes>"
      ]
     },
     "metadata": {
      "needs_background": "light"
     },
     "output_type": "display_data"
    }
   ],
   "source": [
    "Score.plot(kind=\"scatter\",x=\"Citations\",y=\"Score_Result\",alpha=0.8)"
   ]
  },
  {
   "cell_type": "code",
   "execution_count": 30,
   "metadata": {},
   "outputs": [
    {
     "data": {
      "text/plain": [
       "<matplotlib.axes._subplots.AxesSubplot at 0x196a3423b08>"
      ]
     },
     "execution_count": 30,
     "metadata": {},
     "output_type": "execute_result"
    },
    {
     "data": {
      "image/png": "[encoded data removed]",
      "text/plain": [
       "<Figure size 432x288 with 1 Axes>"
      ]
     },
     "metadata": {
      "needs_background": "light"
     },
     "output_type": "display_data"
    }
   ],
   "source": [
    "Score.plot(kind=\"scatter\",x=\"Industry_Income\",y=\"Score_Result\",alpha=0.8)"
   ]
  },
  {
   "cell_type": "code",
   "execution_count": 31,
   "metadata": {},
   "outputs": [
    {
     "data": {
      "text/plain": [
       "0       95\n",
       "1       94\n",
       "2       94\n",
       "3       94\n",
       "4       93\n",
       "        ..\n",
       "1391    11\n",
       "1392    11\n",
       "1393    11\n",
       "1394    11\n",
       "1395    10\n",
       "Name: Score_Result, Length: 1396, dtype: int32"
      ]
     },
     "execution_count": 31,
     "metadata": {},
     "output_type": "execute_result"
    }
   ],
   "source": [
    "Score['Score_Result']"
   ]
  },
  {
   "cell_type": "code",
   "execution_count": 32,
   "metadata": {},
   "outputs": [
    {
     "data": {
      "text/plain": [
       "0       95\n",
       "1       94\n",
       "2       94\n",
       "3       94\n",
       "4       93\n",
       "        ..\n",
       "1391    11\n",
       "1392    11\n",
       "1393    11\n",
       "1394    11\n",
       "1395    10\n",
       "Name: Score_Result, Length: 1396, dtype: int32"
      ]
     },
     "execution_count": 32,
     "metadata": {},
     "output_type": "execute_result"
    }
   ],
   "source": [
    "Y=Score['Score_Result']\n",
    "Y"
   ]
  },
  {
   "cell_type": "code",
   "execution_count": 33,
   "metadata": {},
   "outputs": [
    {
     "data": {
      "text/plain": [
       "array([   0,    1,    2, ..., 1393, 1394, 1395])"
      ]
     },
     "execution_count": 33,
     "metadata": {},
     "output_type": "execute_result"
    }
   ],
   "source": [
    "Y=np.arange(0,1396)\n",
    "Y"
   ]
  },
  {
   "cell_type": "code",
   "execution_count": 34,
   "metadata": {},
   "outputs": [
    {
     "data": {
      "text/plain": [
       "1"
      ]
     },
     "execution_count": 34,
     "metadata": {},
     "output_type": "execute_result"
    }
   ],
   "source": [
    "Y.ndim"
   ]
  },
  {
   "cell_type": "code",
   "execution_count": 35,
   "metadata": {},
   "outputs": [
    {
     "data": {
      "text/plain": [
       "(1396, 1)"
      ]
     },
     "execution_count": 35,
     "metadata": {},
     "output_type": "execute_result"
    }
   ],
   "source": [
    "Y=Y.reshape(-1,1)\n",
    "Y.shape"
   ]
  },
  {
   "cell_type": "code",
   "execution_count": 36,
   "metadata": {},
   "outputs": [
    {
     "data": {
      "text/plain": [
       "2"
      ]
     },
     "execution_count": 36,
     "metadata": {},
     "output_type": "execute_result"
    }
   ],
   "source": [
    "Y.ndim"
   ]
  },
  {
   "cell_type": "code",
   "execution_count": 37,
   "metadata": {
    "scrolled": true
   },
   "outputs": [
    {
     "data": {
      "text/plain": [
       "array([[   0],\n",
       "       [   1],\n",
       "       [   2],\n",
       "       ...,\n",
       "       [1393],\n",
       "       [1394],\n",
       "       [1395]])"
      ]
     },
     "execution_count": 37,
     "metadata": {},
     "output_type": "execute_result"
    }
   ],
   "source": [
    "np.array(Y)"
   ]
  },
  {
   "cell_type": "markdown",
   "metadata": {},
   "source": [
    "# TESTING AND TRAINING"
   ]
  },
  {
   "cell_type": "code",
   "execution_count": 38,
   "metadata": {},
   "outputs": [],
   "source": [
    "import sklearn"
   ]
  },
  {
   "cell_type": "code",
   "execution_count": 39,
   "metadata": {},
   "outputs": [
    {
     "name": "stdout",
     "output_type": "stream",
     "text": [
      "0.22.1\n"
     ]
    }
   ],
   "source": [
    "print(sklearn.__version__)"
   ]
  },
  {
   "cell_type": "code",
   "execution_count": 40,
   "metadata": {},
   "outputs": [],
   "source": [
    "from sklearn import model_selection\n",
    "X=Score.drop(['Score_Result'],axis=1)\n",
    "Y=Score['Score_Result']\n",
    "from sklearn.model_selection import train_test_split\n",
    "X_train, X_test, Y_train, Y_test= model_selection.train_test_split(X, Y, test_size=0.2, random_state=1)"
   ]
  },
  {
   "cell_type": "code",
   "execution_count": 41,
   "metadata": {},
   "outputs": [
    {
     "data": {
      "text/plain": [
       "((1396, 5), (1396,))"
      ]
     },
     "execution_count": 41,
     "metadata": {},
     "output_type": "execute_result"
    }
   ],
   "source": [
    "X.shape,Y.shape"
   ]
  },
  {
   "cell_type": "code",
   "execution_count": 42,
   "metadata": {},
   "outputs": [
    {
     "data": {
      "text/plain": [
       "(6980, 1396)"
      ]
     },
     "execution_count": 42,
     "metadata": {},
     "output_type": "execute_result"
    }
   ],
   "source": [
    "X.size,Y.size"
   ]
  },
  {
   "cell_type": "code",
   "execution_count": 43,
   "metadata": {},
   "outputs": [
    {
     "data": {
      "text/plain": [
       "(1116, 5)"
      ]
     },
     "execution_count": 43,
     "metadata": {},
     "output_type": "execute_result"
    }
   ],
   "source": [
    "X_train.shape"
   ]
  },
  {
   "cell_type": "code",
   "execution_count": 44,
   "metadata": {},
   "outputs": [
    {
     "data": {
      "text/plain": [
       "5580"
      ]
     },
     "execution_count": 44,
     "metadata": {},
     "output_type": "execute_result"
    }
   ],
   "source": [
    "X_train.size"
   ]
  },
  {
   "cell_type": "code",
   "execution_count": 45,
   "metadata": {},
   "outputs": [
    {
     "data": {
      "text/plain": [
       "(280, 5)"
      ]
     },
     "execution_count": 45,
     "metadata": {},
     "output_type": "execute_result"
    }
   ],
   "source": [
    "X_test.shape"
   ]
  },
  {
   "cell_type": "code",
   "execution_count": 46,
   "metadata": {},
   "outputs": [
    {
     "data": {
      "text/plain": [
       "1400"
      ]
     },
     "execution_count": 46,
     "metadata": {},
     "output_type": "execute_result"
    }
   ],
   "source": [
    "X_test.size\n"
   ]
  },
  {
   "cell_type": "code",
   "execution_count": 47,
   "metadata": {},
   "outputs": [
    {
     "data": {
      "image/png": "[encoded data removed]",
      "text/plain": [
       "<Figure size 360x360 with 1 Axes>"
      ]
     },
     "metadata": {},
     "output_type": "display_data"
    }
   ],
   "source": [
    "a=[5580,1400]\n",
    "b=['5580 for Xtrain','1400 for Xtest']\n",
    "fig=plt.figure(figsize=(5,5))\n",
    "plt.pie(a,labels=b)\n",
    "\n",
    "plt.show()"
   ]
  },
  {
   "cell_type": "code",
   "execution_count": 48,
   "metadata": {},
   "outputs": [
    {
     "data": {
      "text/plain": [
       "(1116,)"
      ]
     },
     "execution_count": 48,
     "metadata": {},
     "output_type": "execute_result"
    }
   ],
   "source": [
    "Y_train.shape"
   ]
  },
  {
   "cell_type": "code",
   "execution_count": 49,
   "metadata": {},
   "outputs": [
    {
     "data": {
      "text/plain": [
       "1116"
      ]
     },
     "execution_count": 49,
     "metadata": {},
     "output_type": "execute_result"
    }
   ],
   "source": [
    "Y_train.size"
   ]
  },
  {
   "cell_type": "code",
   "execution_count": 50,
   "metadata": {},
   "outputs": [
    {
     "data": {
      "text/plain": [
       "(280,)"
      ]
     },
     "execution_count": 50,
     "metadata": {},
     "output_type": "execute_result"
    }
   ],
   "source": [
    "\n",
    "\n",
    "\n",
    "Y_test.shape"
   ]
  },
  {
   "cell_type": "code",
   "execution_count": 51,
   "metadata": {},
   "outputs": [
    {
     "data": {
      "text/plain": [
       "280"
      ]
     },
     "execution_count": 51,
     "metadata": {},
     "output_type": "execute_result"
    }
   ],
   "source": [
    "Y_test.size"
   ]
  },
  {
   "cell_type": "code",
   "execution_count": 52,
   "metadata": {},
   "outputs": [
    {
     "data": {
      "image/png": "[encoded data removed]",
      "text/plain": [
       "<Figure size 360x360 with 1 Axes>"
      ]
     },
     "metadata": {},
     "output_type": "display_data"
    }
   ],
   "source": [
    "a=[1116,280]\n",
    "b=['1116 for Ytrain','280 for Ytest']\n",
    "fig=plt.figure(figsize=(5,5))\n",
    "plt.pie(a,labels=b)\n",
    "\n",
    "plt.show()"
   ]
  },
  {
   "cell_type": "code",
   "execution_count": 53,
   "metadata": {},
   "outputs": [],
   "source": [
    "from sklearn.ensemble import RandomForestRegressor\n",
    "import pickle\n",
    "import warnings\n",
    "warnings.filterwarnings(\"ignore\")"
   ]
  },
  {
   "cell_type": "markdown",
   "metadata": {},
   "source": [
    "#MODEL"
   ]
  },
  {
   "cell_type": "code",
   "execution_count": 54,
   "metadata": {},
   "outputs": [
    {
     "data": {
      "text/plain": [
       "RandomForestRegressor(bootstrap=True, ccp_alpha=0.0, criterion='mse',\n",
       "                      max_depth=None, max_features='auto', max_leaf_nodes=None,\n",
       "                      max_samples=None, min_impurity_decrease=0.0,\n",
       "                      min_impurity_split=None, min_samples_leaf=1,\n",
       "                      min_samples_split=2, min_weight_fraction_leaf=0.0,\n",
       "                      n_estimators=100, n_jobs=None, oob_score=False,\n",
       "                      random_state=1, verbose=0, warm_start=False)"
      ]
     },
     "execution_count": 54,
     "metadata": {},
     "output_type": "execute_result"
    }
   ],
   "source": [
    "rfr=  RandomForestRegressor(random_state=1)\n",
    "\n",
    "rfr1=rfr.fit(X_train,Y_train)\n",
    "rfr1"
   ]
  },
  {
   "cell_type": "code",
   "execution_count": 55,
   "metadata": {},
   "outputs": [
    {
     "data": {
      "text/plain": [
       "array([20.86, 29.87, 24.5 , 40.54, 29.56, 19.86, 18.8 , 17.38, 49.71,\n",
       "       21.61, 55.53, 42.6 , 71.78, 32.03, 12.72, 31.58, 15.54, 45.15,\n",
       "       21.07, 27.4 , 19.11, 27.81, 63.72, 19.81, 18.27, 31.37, 16.52,\n",
       "       16.33, 32.24, 17.53, 15.64, 41.13, 18.39, 80.04, 25.27, 45.01,\n",
       "       14.65, 24.73, 37.56, 19.78, 93.13, 30.16, 37.92, 63.89, 18.95,\n",
       "       45.15, 54.1 , 34.58, 39.34, 60.13, 28.65, 48.49, 15.29, 28.28,\n",
       "       28.49, 13.04, 37.49, 13.66, 18.19, 72.54, 23.31, 39.05, 47.76,\n",
       "       16.74, 21.13, 63.62, 50.17, 64.28, 55.73, 13.46, 30.64, 42.14,\n",
       "       56.03, 20.92, 16.56, 38.22, 18.04, 50.87, 19.21, 26.04, 34.66,\n",
       "       21.35, 18.27, 45.38, 18.62, 18.53, 16.04, 14.84, 21.65, 12.21,\n",
       "       43.67, 11.9 , 29.71, 27.53, 30.62, 16.34, 24.54, 58.68, 27.15,\n",
       "       19.82, 35.62, 13.8 , 23.74, 36.4 , 51.69, 30.41, 19.51, 22.72,\n",
       "       27.11, 37.23, 28.2 , 63.1 , 32.12, 38.65, 20.87, 33.81, 23.48,\n",
       "       23.23, 18.88, 19.25, 27.41, 16.28, 54.3 , 30.41, 37.25, 28.3 ,\n",
       "       59.95, 40.9 , 28.42, 41.75, 16.72, 37.09, 38.22, 37.03, 66.06,\n",
       "       20.74, 43.69, 32.58, 30.07, 13.57, 27.61, 39.73, 22.71, 17.67,\n",
       "       56.07, 55.85, 40.8 , 48.87, 21.17, 59.95, 19.79, 43.88, 40.22,\n",
       "       46.39, 65.66, 52.85, 17.68, 32.89, 18.71, 31.26, 20.77, 18.03,\n",
       "       53.63, 18.93, 38.  , 40.86, 38.11, 18.12, 31.75, 42.38, 19.55,\n",
       "       47.7 , 16.47, 30.39, 63.11, 15.53, 24.3 , 68.24, 33.32, 45.83,\n",
       "       17.98, 24.19, 27.84, 57.13, 42.82, 19.49, 49.55, 53.49, 65.1 ,\n",
       "       13.36, 22.17, 57.06, 27.35, 42.53, 32.57, 67.15, 36.47, 26.24,\n",
       "       16.85, 16.89, 15.58, 58.05, 38.46, 19.  , 53.85, 19.11, 40.94,\n",
       "       48.39, 39.49, 36.42, 48.4 , 20.18, 21.31, 86.9 , 24.15, 22.01,\n",
       "       46.68, 66.25, 41.67, 17.63, 27.5 , 13.44, 72.59, 21.2 , 34.24,\n",
       "       12.69, 64.33, 17.95, 14.48, 14.63, 28.33, 54.5 , 14.94, 75.62,\n",
       "       60.36, 18.82, 42.44, 34.91, 44.22, 48.61, 36.19, 13.63, 28.77,\n",
       "       26.44, 27.22, 28.02, 14.58, 56.98, 16.49, 25.01, 42.26, 20.12,\n",
       "       25.39, 31.09, 50.02, 56.68, 42.41, 33.89, 36.13, 14.47, 22.57,\n",
       "       25.94, 54.5 , 20.92, 46.76, 15.58, 35.91, 35.67, 17.72, 48.2 ,\n",
       "       23.31, 40.63, 40.77, 66.63, 46.68, 16.28, 48.56, 35.66, 13.26,\n",
       "       80.84])"
      ]
     },
     "execution_count": 55,
     "metadata": {},
     "output_type": "execute_result"
    }
   ],
   "source": [
    "predictions=rfr1.predict(X_test)\n",
    "\n",
    "predictions"
   ]
  },
  {
   "cell_type": "markdown",
   "metadata": {},
   "source": [
    "#EVALUATION"
   ]
  },
  {
   "cell_type": "code",
   "execution_count": 56,
   "metadata": {},
   "outputs": [],
   "source": [
    "from sklearn.metrics import mean_squared_error"
   ]
  },
  {
   "cell_type": "code",
   "execution_count": 57,
   "metadata": {},
   "outputs": [],
   "source": [
    "mse=mean_squared_error(predictions,Y_test)\n",
    "\n",
    "rmse=np.sqrt(mse)"
   ]
  },
  {
   "cell_type": "code",
   "execution_count": 58,
   "metadata": {},
   "outputs": [
    {
     "data": {
      "text/plain": [
       "1.2527717840281776"
      ]
     },
     "execution_count": 58,
     "metadata": {},
     "output_type": "execute_result"
    }
   ],
   "source": [
    "\n",
    "rmse"
   ]
  },
  {
   "cell_type": "code",
   "execution_count": 59,
   "metadata": {},
   "outputs": [
    {
     "data": {
      "text/plain": [
       "0.9943045647329932"
      ]
     },
     "execution_count": 59,
     "metadata": {},
     "output_type": "execute_result"
    }
   ],
   "source": [
    "from sklearn.metrics import r2_score\n",
    "r2_score=r2_score(predictions,Y_test)\n",
    "r2_score"
   ]
  },
  {
   "cell_type": "code",
   "execution_count": 60,
   "metadata": {},
   "outputs": [
    {
     "data": {
      "text/plain": [
       "1020    21\n",
       "750     29\n",
       "887     25\n",
       "408     42\n",
       "744     30\n",
       "        ..\n",
       "1245    16\n",
       "239     50\n",
       "613     34\n",
       "1369    12\n",
       "27      81\n",
       "Name: Score_Result, Length: 280, dtype: int32"
      ]
     },
     "execution_count": 60,
     "metadata": {},
     "output_type": "execute_result"
    }
   ],
   "source": [
    "\n",
    "Y_test"
   ]
  },
  {
   "cell_type": "code",
   "execution_count": 61,
   "metadata": {},
   "outputs": [
    {
     "data": {
      "image/png": "[encoded data removed]",
      "text/plain": [
       "<Figure size 432x288 with 1 Axes>"
      ]
     },
     "metadata": {
      "needs_background": "light"
     },
     "output_type": "display_data"
    }
   ],
   "source": [
    "plt.scatter(rmse,r2_score)\n",
    "plt.xlabel('root_mean_squared_error')\n",
    "plt.ylabel('r2_score')\n",
    "plt.title('Accuracy')\n",
    "plt.show()"
   ]
  },
  {
   "cell_type": "code",
   "execution_count": null,
   "metadata": {},
   "outputs": [],
   "source": []
  },
  {
   "cell_type": "markdown",
   "metadata": {},
   "source": [
    "\n",
    "\n",
    "\n",
    "\n",
    "## PREDICTION\n",
    "\n",
    "\n",
    "\n",
    "\n"
   ]
  },
  {
   "cell_type": "code",
   "execution_count": 62,
   "metadata": {},
   "outputs": [
    {
     "name": "stdout",
     "output_type": "stream",
     "text": [
      "      Teaching  Research  Citations  Industry_Income  International_Outlook\n",
      "1020        16        13         29               34                     40\n",
      "750         22        17         47               36                     36\n",
      "887         16        13         39               35                     49\n",
      "408         19        27         64               49                     99\n",
      "744         21        16         46               40                     44 1020    21\n",
      "750     29\n",
      "887     25\n",
      "408     42\n",
      "744     30\n",
      "Name: Score_Result, dtype: int32\n"
     ]
    }
   ],
   "source": [
    "print(X_test[0:5],Y_test[0:5])"
   ]
  },
  {
   "cell_type": "code",
   "execution_count": 63,
   "metadata": {},
   "outputs": [
    {
     "name": "stdout",
     "output_type": "stream",
     "text": [
      "[[16, 13, 29, 34, 40]]\n",
      "[20.86]\n"
     ]
    }
   ],
   "source": [
    "#testing the build model \n",
    "test=[[  16   ,     13     ,    29       ,        34            ,         40 ]]\n",
    "print(test)\n",
    "\n",
    "#print(log_reg.predict_proba(test))\n",
    "print(rfr1.predict(test))  # pass\n",
    "#print(log_reg.predict([[2,43]])) #fail\n"
   ]
  },
  {
   "cell_type": "code",
   "execution_count": 64,
   "metadata": {},
   "outputs": [
    {
     "name": "stdout",
     "output_type": "stream",
     "text": [
      "Score.shape= (1396, 6)  Score.size = 8376\n",
      "X_train.shape = (1116, 5)  X_train.size = 5580\n",
      "X_test.shape = (280, 5)   X_test.size = 1400\n",
      "Y_train.shape  = (1116,)    Y_train.size = 1116\n",
      "Y_test.shape = (280,)  Y_test.size = 280\n"
     ]
    }
   ],
   "source": [
    "print (\"Score.shape=\",Score.shape,   \" Score.size =\", Score.size)\n",
    "print (\"X_train.shape =\",X_train.shape,   \" X_train.size =\", X_train.size)\n",
    "print (\"X_test.shape =\",X_test.shape,     \"  X_test.size =\", X_test.size)\n",
    "print (\"Y_train.shape  =\",Y_train.shape,    \"   Y_train.size =\", Y_train.size)\n",
    "print (\"Y_test.shape =\",Y_test.shape,    \" Y_test.size =\", Y_test.size)"
   ]
  },
  {
   "cell_type": "markdown",
   "metadata": {},
   "source": [
    "## PICKLE"
   ]
  },
  {
   "cell_type": "code",
   "execution_count": 65,
   "metadata": {},
   "outputs": [
    {
     "name": "stdout",
     "output_type": "stream",
     "text": [
      "[20.86]\n"
     ]
    }
   ],
   "source": [
    "# Saving model to disk\n",
    "#Serialization  - saving the state (in memory) to file (on disk)\n",
    "pickle.dump(rfr1,open('model.pkl','wb'))\n",
    "\n",
    "# Loading model to compare the results\n",
    "#Deserialization  - reteriving  the file (on disk) to memory (RAM)\n",
    "model=pickle.load(open('model.pkl','rb'))\n",
    "\n",
    "print(model.predict([[16   ,     13  ,       29       ,        34        ,             40]]))"
   ]
  },
  {
   "cell_type": "markdown",
   "metadata": {},
   "source": [
    "## FLASK"
   ]
  },
  {
   "cell_type": "code",
   "execution_count": null,
   "metadata": {},
   "outputs": [
    {
     "name": "stdout",
     "output_type": "stream",
     "text": [
      " * Serving Flask app \"__main__\" (lazy loading)\n",
      " * Environment: production\n",
      "   WARNING: This is a development server. Do not use it in a production deployment.\n",
      "   Use a production WSGI server instead.\n",
      " * Debug mode: off\n"
     ]
    },
    {
     "name": "stderr",
     "output_type": "stream",
     "text": [
      " * Running on http://127.0.0.1:5000/ (Press CTRL+C to quit)\n",
      "127.0.0.1 - - [15/Sep/2020 20:14:01] \"\u001b[37mGET / HTTP/1.1\u001b[0m\" 200 -\n",
      "127.0.0.1 - - [15/Sep/2020 20:14:26] \"\u001b[37mPOST /predict HTTP/1.1\u001b[0m\" 200 -\n"
     ]
    },
    {
     "name": "stdout",
     "output_type": "stream",
     "text": [
      "[array([99, 99, 99, 99, 99])]\n",
      "94.09\n"
     ]
    }
   ],
   "source": [
    "\n",
    "\n",
    "\n",
    "\n",
    "#app.py\n",
    "from flask import Flask,request, url_for, redirect, render_template\n",
    "import pickle\n",
    "import numpy as np\n",
    "\n",
    "app = Flask(__name__)\n",
    "model=pickle.load(open('model.pkl','rb'))\n",
    "\n",
    "@app.route('/')\n",
    "def home():\n",
    "    return render_template(\"score.html\")\n",
    "\n",
    "@app.route('/predict',methods=['POST','GET'])\n",
    "def predict():\n",
    "    # receive the values send by user in three text boxes thru request object -> requesst.form.values()\n",
    "    \n",
    "    int_features = [int(x) for x in request.form.values()]\n",
    "    final_features = [np.array(int_features)]\n",
    "    print(final_features)\n",
    "    prediction = model.predict(final_features)\n",
    "    output = round(prediction[0], 2)\n",
    "    \n",
    "    #prediction=model.predict_proba(final_features)\n",
    "    #output='{0:.{1}f}'.format(prediction[0][1], 2)\n",
    "   \n",
    "    print(output )\n",
    "\n",
    "    return render_template('score.html', pred='score probability is :  {}'.format(output))\n",
    "\n",
    "if __name__ == '__main__':\n",
    "    \n",
    "    app.run(debug=False)"
   ]
  },
  {
   "cell_type": "code",
   "execution_count": null,
   "metadata": {},
   "outputs": [],
   "source": []
  }
 ],
 "metadata": {
  "kernelspec": {
   "display_name": "Python 3",
   "language": "python",
   "name": "python3"
  },
  "language_info": {
   "codemirror_mode": {
    "name": "ipython",
    "version": 3
   },
   "file_extension": ".py",
   "mimetype": "text/x-python",
   "name": "python",
   "nbconvert_exporter": "python",
   "pygments_lexer": "ipython3",
   "version": "3.7.6"
  }
 },
 "nbformat": 4,
 "nbformat_minor": 4
}
